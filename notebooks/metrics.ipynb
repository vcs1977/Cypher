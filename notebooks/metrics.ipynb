{
 "cells": [
  {
   "cell_type": "markdown",
   "metadata": {},
   "source": [
    "# Test Metrics"
   ]
  },
  {
   "cell_type": "code",
   "execution_count": 15,
   "metadata": {},
   "outputs": [],
   "source": [
    "import warnings\n",
    "warnings.filterwarnings('ignore')\n",
    "\n",
    "import numpy as np\n",
    "\n",
    "from sklearn.datasets import load_boston\n",
    "from sklearn.datasets import load_diabetes\n",
    "from sklearn.datasets import load_digits\n",
    "from sklearn.datasets import load_linnerud\n",
    "from sklearn.datasets import load_wine\n",
    "from sklearn.datasets import load_iris\n",
    "from sklearn.datasets import load_breast_cancer\n",
    "\n",
    "from keras.datasets import mnist\n",
    "from keras.datasets import cifar10\n",
    "\n",
    "from keras.utils import to_categorical\n",
    "from cypher import RandomSearchOptimizer"
   ]
  },
  {
   "cell_type": "code",
   "execution_count": 16,
   "metadata": {},
   "outputs": [],
   "source": [
    "metrics_sklearn = [\n",
    "    \"accuracy_score\",\n",
    "    \"balanced_accuracy_score\",\n",
    "    \"average_precision_score\",\n",
    "    \"f1_score\",\n",
    "    \"precision_score\",\n",
    "    \"recall_score\",\n",
    "    \"jaccard_score\",\n",
    "    \"roc_auc_score\",\n",
    "    \"explained_variance_score\",\n",
    "    \"r2_score\",\n",
    "    \"brier_score_loss\",\n",
    "    \"log_loss\",\n",
    "    \"max_error\",\n",
    "    \"mean_absolute_error\",\n",
    "    \"mean_squared_error\",\n",
    "    \"mean_squared_log_error\",\n",
    "    \"median_absolute_error\",\n",
    "]\n",
    "\n",
    "metrics_keras = [\n",
    "    \"accuracy\",\n",
    "    \"binary_accuracy\",\n",
    "    \"categorical_accuracy\",\n",
    "    \"sparse_categorical_accuracy\",\n",
    "    \"top_k_categorical_accuracy\",\n",
    "    \"sparse_top_k_categorical_accuracy\",\n",
    "    \"mean_squared_error\",\n",
    "    \"mean_absolute_error\",\n",
    "    \"mean_absolute_percentage_error\",\n",
    "    \"mean_squared_logarithmic_error\",\n",
    "    \"squared_hinge\",\n",
    "    \"hinge\",\n",
    "    \"categorical_hinge\",\n",
    "    \"logcosh\",\n",
    "    \"categorical_crossentropy\",\n",
    "    \"sparse_categorical_crossentropy\",\n",
    "    \"binary_crossentropy\",\n",
    "    \"kullback_leibler_divergence\",\n",
    "    \"poisson\",\n",
    "    \"cosine_proximity\",\n",
    "]"
   ]
  },
  {
   "cell_type": "code",
   "execution_count": 17,
   "metadata": {},
   "outputs": [],
   "source": [
    "config_sklearn_cla = {\n",
    "    \"sklearn.ensemble.RandomForestClassifier\": {\"n_estimators\": range(1, 10, 1)}\n",
    "}\n",
    "\n",
    "config_sklearn_reg = {\n",
    "    \"sklearn.ensemble.RandomForestRegressor\": {\"n_estimators\": range(1, 10, 1)}\n",
    "}\n",
    "\n",
    "config_keras_cla = {\n",
    "    \"keras.compile.0\": {\"loss\": [\"categorical_crossentropy\"], \"optimizer\": [\"adam\"]},\n",
    "    \"keras.fit.0\": {\"epochs\": [1], \"batch_size\": [500], \"verbose\": [0]},\n",
    "    \"keras.layers.Conv2D.1\": {\n",
    "        \"filters\": [32, 64, 128],\n",
    "        \"kernel_size\": range(3, 4),\n",
    "        \"activation\": [\"relu\"],\n",
    "    },\n",
    "    \"keras.layers.MaxPooling2D.2\": {\"pool_size\": [(2, 2)]},\n",
    "    \"keras.layers.Flatten.3\": {},\n",
    "    \"keras.layers.Dense.4\": {\"units\": range(30, 200, 10), \"activation\": [\"softmax\"]},\n",
    "    \"keras.layers.Dense.5\": {\"units\": [10], \"activation\": [\"softmax\"]},\n",
    "}"
   ]
  },
  {
   "cell_type": "code",
   "execution_count": 18,
   "metadata": {},
   "outputs": [],
   "source": [
    "def test_metrics(metrics, search_config, X, y):\n",
    "    metric_list = []\n",
    "    for metric in metrics:\n",
    "        opt = RandomSearchOptimizer(search_config, n_iter=0, cv=0.8, metric=metric, verbosity=None)\n",
    "        try:\n",
    "            opt.fit(X, y)\n",
    "            metric_list.append(metric)\n",
    "        except Exception:\n",
    "            pass\n",
    "        \n",
    "    return metric_list"
   ]
  },
  {
   "cell_type": "markdown",
   "metadata": {},
   "source": [
    "# Iris data"
   ]
  },
  {
   "cell_type": "code",
   "execution_count": 19,
   "metadata": {},
   "outputs": [
    {
     "name": "stdout",
     "output_type": "stream",
     "text": [
      "target shape: (150,)\n",
      "working metrics:\n",
      "\n",
      "accuracy_score\n",
      "balanced_accuracy_score\n",
      "explained_variance_score\n",
      "r2_score\n",
      "max_error\n",
      "mean_absolute_error\n",
      "mean_squared_error\n",
      "mean_squared_log_error\n",
      "median_absolute_error\n"
     ]
    }
   ],
   "source": [
    "iris_data = load_iris()\n",
    "X, y = iris_data.data, iris_data.target\n",
    "\n",
    "metric_list = test_metrics(metrics_sklearn, config_sklearn_cla, X, y)\n",
    "\n",
    "print(\"target shape:\", y.shape)\n",
    "print(\"working metrics:\\n\")\n",
    "for metric in metric_list:\n",
    "    print(metric)"
   ]
  },
  {
   "cell_type": "code",
   "execution_count": 20,
   "metadata": {},
   "outputs": [
    {
     "name": "stdout",
     "output_type": "stream",
     "text": [
      "target shape: (150, 3)\n",
      "working metrics:\n",
      "\n",
      "accuracy_score\n",
      "average_precision_score\n",
      "roc_auc_score\n",
      "explained_variance_score\n",
      "r2_score\n",
      "log_loss\n",
      "mean_absolute_error\n",
      "mean_squared_error\n",
      "mean_squared_log_error\n"
     ]
    }
   ],
   "source": [
    "X, y = iris_data.data, iris_data.target\n",
    "y = to_categorical(y, 3)\n",
    "\n",
    "metric_list = test_metrics(metrics_sklearn, config_sklearn_cla, X, y)\n",
    "\n",
    "print(\"target shape:\", y.shape)\n",
    "print(\"working metrics:\\n\")\n",
    "for metric in metric_list:\n",
    "    print(metric)"
   ]
  },
  {
   "cell_type": "markdown",
   "metadata": {},
   "source": [
    "# Boston data"
   ]
  },
  {
   "cell_type": "code",
   "execution_count": 21,
   "metadata": {},
   "outputs": [
    {
     "name": "stdout",
     "output_type": "stream",
     "text": [
      "target shape: (506,)\n",
      "working metrics:\n",
      "\n",
      "explained_variance_score\n",
      "r2_score\n",
      "max_error\n",
      "mean_absolute_error\n",
      "mean_squared_error\n",
      "mean_squared_log_error\n",
      "median_absolute_error\n"
     ]
    }
   ],
   "source": [
    "boston_data = load_boston()\n",
    "X, y = boston_data.data, boston_data.target\n",
    "\n",
    "metric_list = test_metrics(metrics_sklearn, config_sklearn_reg, X, y)\n",
    "\n",
    "print(\"target shape:\", y.shape)\n",
    "print(\"working metrics:\\n\")\n",
    "for metric in metric_list:\n",
    "    print(metric)"
   ]
  },
  {
   "cell_type": "markdown",
   "metadata": {},
   "source": [
    "# Diabetes data"
   ]
  },
  {
   "cell_type": "code",
   "execution_count": 22,
   "metadata": {},
   "outputs": [
    {
     "name": "stdout",
     "output_type": "stream",
     "text": [
      "target shape: (442,)\n",
      "working metrics:\n",
      "\n",
      "explained_variance_score\n",
      "r2_score\n",
      "max_error\n",
      "mean_absolute_error\n",
      "mean_squared_error\n",
      "mean_squared_log_error\n",
      "median_absolute_error\n"
     ]
    }
   ],
   "source": [
    "diabetes_data = load_diabetes()\n",
    "X, y = diabetes_data.data, diabetes_data.target\n",
    "\n",
    "metric_list = test_metrics(metrics_sklearn, config_sklearn_reg, X, y)\n",
    "\n",
    "print(\"target shape:\", y.shape)\n",
    "print(\"working metrics:\\n\")\n",
    "for metric in metric_list:\n",
    "    print(metric)"
   ]
  },
  {
   "cell_type": "markdown",
   "metadata": {},
   "source": [
    "# Digits data"
   ]
  },
  {
   "cell_type": "code",
   "execution_count": 23,
   "metadata": {},
   "outputs": [
    {
     "name": "stdout",
     "output_type": "stream",
     "text": [
      "target shape: (1797,)\n",
      "working metrics:\n",
      "\n",
      "accuracy_score\n",
      "balanced_accuracy_score\n",
      "explained_variance_score\n",
      "r2_score\n",
      "max_error\n",
      "mean_absolute_error\n",
      "mean_squared_error\n",
      "mean_squared_log_error\n",
      "median_absolute_error\n"
     ]
    }
   ],
   "source": [
    "digits_data = load_digits()\n",
    "X, y = digits_data.data, digits_data.target\n",
    "\n",
    "metric_list = test_metrics(metrics_sklearn, config_sklearn_cla, X, y)\n",
    "\n",
    "print(\"target shape:\", y.shape)\n",
    "print(\"working metrics:\\n\")\n",
    "for metric in metric_list:\n",
    "    print(metric)"
   ]
  },
  {
   "cell_type": "markdown",
   "metadata": {},
   "source": [
    "# Linnerud data"
   ]
  },
  {
   "cell_type": "code",
   "execution_count": 24,
   "metadata": {},
   "outputs": [
    {
     "name": "stdout",
     "output_type": "stream",
     "text": [
      "target shape: (20, 3)\n",
      "working metrics:\n",
      "\n",
      "explained_variance_score\n",
      "r2_score\n",
      "mean_absolute_error\n",
      "mean_squared_error\n",
      "mean_squared_log_error\n"
     ]
    }
   ],
   "source": [
    "linnerud_data = load_linnerud()\n",
    "X, y = linnerud_data.data, linnerud_data.target\n",
    "\n",
    "metric_list = test_metrics(metrics_sklearn, config_sklearn_reg, X, y)\n",
    "\n",
    "print(\"target shape:\", y.shape)\n",
    "print(\"working metrics:\\n\")\n",
    "for metric in metric_list:\n",
    "    print(metric)"
   ]
  },
  {
   "cell_type": "markdown",
   "metadata": {},
   "source": [
    "# Wine data"
   ]
  },
  {
   "cell_type": "code",
   "execution_count": 25,
   "metadata": {},
   "outputs": [
    {
     "name": "stdout",
     "output_type": "stream",
     "text": [
      "target shape: (178,)\n",
      "working metrics:\n",
      "\n",
      "accuracy_score\n",
      "balanced_accuracy_score\n",
      "explained_variance_score\n",
      "r2_score\n",
      "max_error\n",
      "mean_absolute_error\n",
      "mean_squared_error\n",
      "mean_squared_log_error\n",
      "median_absolute_error\n"
     ]
    }
   ],
   "source": [
    "wine_data = load_wine()\n",
    "X, y = wine_data.data, wine_data.target\n",
    "\n",
    "metric_list = test_metrics(metrics_sklearn, config_sklearn_cla, X, y)\n",
    "\n",
    "print(\"target shape:\", y.shape)\n",
    "print(\"working metrics:\\n\")\n",
    "for metric in metric_list:\n",
    "    print(metric)"
   ]
  },
  {
   "cell_type": "markdown",
   "metadata": {},
   "source": [
    "# Cancer data"
   ]
  },
  {
   "cell_type": "code",
   "execution_count": 26,
   "metadata": {},
   "outputs": [
    {
     "name": "stdout",
     "output_type": "stream",
     "text": [
      "target shape: (569,)\n",
      "working metrics:\n",
      "\n",
      "accuracy_score\n",
      "balanced_accuracy_score\n",
      "average_precision_score\n",
      "f1_score\n",
      "precision_score\n",
      "recall_score\n",
      "jaccard_score\n",
      "roc_auc_score\n",
      "explained_variance_score\n",
      "r2_score\n",
      "brier_score_loss\n",
      "log_loss\n",
      "max_error\n",
      "mean_absolute_error\n",
      "mean_squared_error\n",
      "mean_squared_log_error\n",
      "median_absolute_error\n"
     ]
    }
   ],
   "source": [
    "cancer_data = load_breast_cancer()\n",
    "X, y = cancer_data.data, cancer_data.target\n",
    "\n",
    "metric_list = test_metrics(metrics_sklearn, config_sklearn_cla, X, y)\n",
    "\n",
    "print(\"target shape:\", y.shape)\n",
    "print(\"working metrics:\\n\")\n",
    "for metric in metric_list:\n",
    "    print(metric)"
   ]
  },
  {
   "cell_type": "markdown",
   "metadata": {},
   "source": [
    "# MNIST data"
   ]
  },
  {
   "cell_type": "code",
   "execution_count": 27,
   "metadata": {},
   "outputs": [
    {
     "name": "stdout",
     "output_type": "stream",
     "text": [
      "Epoch 1/1\n",
      "100/100 [==============================] - 5s 54ms/step - loss: 2.2570 - acc: 0.1200\n",
      "Epoch 1/1\n",
      "100/100 [==============================] - 6s 55ms/step - loss: 2.2570 - binary_accuracy: 0.9000\n",
      "Epoch 1/1\n",
      "100/100 [==============================] - 6s 56ms/step - loss: 2.2570 - categorical_accuracy: 0.1200\n",
      "Epoch 1/1\n",
      "100/100 [==============================] - 6s 57ms/step - loss: 2.2570 - top_k_categorical_accuracy: 0.6200\n",
      "Epoch 1/1\n",
      "100/100 [==============================] - 6s 58ms/step - loss: 2.2570 - mean_squared_error: 0.0891\n",
      "Epoch 1/1\n",
      "100/100 [==============================] - 6s 58ms/step - loss: 2.2570 - mean_absolute_error: 0.1789\n",
      "Epoch 1/1\n",
      "100/100 [==============================] - 6s 60ms/step - loss: 2.2570 - mean_absolute_percentage_error: 89468020.4800\n",
      "Epoch 1/1\n",
      "100/100 [==============================] - 7s 66ms/step - loss: 2.2570 - mean_squared_logarithmic_error: 0.0434\n",
      "Epoch 1/1\n",
      "100/100 [==============================] - 6s 61ms/step - loss: 2.2570 - squared_hinge: 0.9801\n",
      "Epoch 1/1\n",
      "100/100 [==============================] - 6s 62ms/step - loss: 2.2570 - hinge: 0.9895\n",
      "Epoch 1/1\n",
      "100/100 [==============================] - 6s 63ms/step - loss: 2.2570 - logcosh: 0.0401\n",
      "Epoch 1/1\n",
      "100/100 [==============================] - 6s 60ms/step - loss: 2.2570 - categorical_crossentropy: 2.2570\n",
      "Epoch 1/1\n",
      "100/100 [==============================] - 6s 61ms/step - loss: 2.2570 - binary_crossentropy: 0.3200\n",
      "Epoch 1/1\n",
      "100/100 [==============================] - 6s 62ms/step - loss: 2.2570 - kullback_leibler_divergence: 2.2569\n",
      "Epoch 1/1\n",
      "100/100 [==============================] - 6s 62ms/step - loss: 2.2570 - poisson: 0.3257\n",
      "Epoch 1/1\n",
      "100/100 [==============================] - 6s 63ms/step - loss: 2.2570 - cosine_proximity: -0.3306\n",
      "target shape: (100, 10)\n",
      "working metrics:\n",
      "\n",
      "accuracy\n",
      "binary_accuracy\n",
      "categorical_accuracy\n",
      "top_k_categorical_accuracy\n",
      "mean_squared_error\n",
      "mean_absolute_error\n",
      "mean_absolute_percentage_error\n",
      "mean_squared_logarithmic_error\n",
      "squared_hinge\n",
      "hinge\n",
      "logcosh\n",
      "categorical_crossentropy\n",
      "binary_crossentropy\n",
      "kullback_leibler_divergence\n",
      "poisson\n",
      "cosine_proximity\n"
     ]
    }
   ],
   "source": [
    "(X, y), (x_test, y_test) = mnist.load_data()\n",
    "X = X[0:100]\n",
    "y = y[0:100]\n",
    "\n",
    "X = X.reshape(100, 28, 28, 1)\n",
    "y = to_categorical(y)\n",
    "\n",
    "metric_list = test_metrics(metrics_keras, config_keras_cla, X, y)\n",
    "\n",
    "print(\"target shape:\", y.shape)\n",
    "print(\"working metrics:\\n\")\n",
    "for metric in metric_list:\n",
    "    print(metric)"
   ]
  },
  {
   "cell_type": "markdown",
   "metadata": {},
   "source": [
    "# cifar10 data"
   ]
  },
  {
   "cell_type": "code",
   "execution_count": 28,
   "metadata": {},
   "outputs": [
    {
     "name": "stdout",
     "output_type": "stream",
     "text": [
      "Epoch 1/1\n",
      "100/100 [==============================] - 6s 64ms/step - loss: 2.3176 - acc: 0.0500\n",
      "Epoch 1/1\n",
      "100/100 [==============================] - 7s 65ms/step - loss: 2.3176 - binary_accuracy: 0.9000\n",
      "Epoch 1/1\n",
      "100/100 [==============================] - 7s 66ms/step - loss: 2.3176 - categorical_accuracy: 0.0500\n",
      "Epoch 1/1\n",
      "100/100 [==============================] - 7s 67ms/step - loss: 2.3176 - top_k_categorical_accuracy: 0.4700\n",
      "Epoch 1/1\n",
      "100/100 [==============================] - 7s 68ms/step - loss: 2.3176 - mean_squared_error: 0.0903\n",
      "Epoch 1/1\n",
      "100/100 [==============================] - 7s 69ms/step - loss: 2.3176 - mean_absolute_error: 0.1802\n",
      "Epoch 1/1\n",
      "100/100 [==============================] - 7s 70ms/step - loss: 2.3176 - mean_absolute_percentage_error: 90096071.3600\n",
      "Epoch 1/1\n",
      "100/100 [==============================] - 7s 71ms/step - loss: 2.3176 - mean_squared_logarithmic_error: 0.0441\n",
      "Epoch 1/1\n",
      "100/100 [==============================] - 7s 72ms/step - loss: 2.3176 - squared_hinge: 0.9812\n",
      "Epoch 1/1\n",
      "100/100 [==============================] - 7s 72ms/step - loss: 2.3176 - hinge: 0.9901\n",
      "Epoch 1/1\n",
      "100/100 [==============================] - 7s 73ms/step - loss: 2.3176 - logcosh: 0.0406\n",
      "Epoch 1/1\n",
      "100/100 [==============================] - 8s 77ms/step - loss: 2.3176 - categorical_crossentropy: 2.3176\n",
      "Epoch 1/1\n",
      "100/100 [==============================] - 8s 81ms/step - loss: 2.3176 - binary_crossentropy: 0.3268\n",
      "Epoch 1/1\n",
      "100/100 [==============================] - 8s 82ms/step - loss: 2.3176 - kullback_leibler_divergence: 2.3176\n",
      "Epoch 1/1\n",
      "100/100 [==============================] - 9s 91ms/step - loss: 2.3176 - poisson: 0.3318\n",
      "Epoch 1/1\n",
      "100/100 [==============================] - 9s 85ms/step - loss: 2.3176 - cosine_proximity: -0.3115\n",
      "target shape: (100, 10)\n",
      "working metrics:\n",
      "\n",
      "accuracy\n",
      "binary_accuracy\n",
      "categorical_accuracy\n",
      "top_k_categorical_accuracy\n",
      "mean_squared_error\n",
      "mean_absolute_error\n",
      "mean_absolute_percentage_error\n",
      "mean_squared_logarithmic_error\n",
      "squared_hinge\n",
      "hinge\n",
      "logcosh\n",
      "categorical_crossentropy\n",
      "binary_crossentropy\n",
      "kullback_leibler_divergence\n",
      "poisson\n",
      "cosine_proximity\n"
     ]
    }
   ],
   "source": [
    "(X, y), (x_test, y_test) = cifar10.load_data()\n",
    "\n",
    "X = X[0:100]\n",
    "y = y[0:100]\n",
    "\n",
    "X = X.reshape(100, 32, 32, 3)\n",
    "y = to_categorical(y)\n",
    "\n",
    "metric_list = test_metrics(metrics_keras, config_keras_cla, X, y)\n",
    "\n",
    "print(\"target shape:\", y.shape)\n",
    "print(\"working metrics:\\n\")\n",
    "for metric in metric_list:\n",
    "    print(metric)"
   ]
  },
  {
   "cell_type": "code",
   "execution_count": null,
   "metadata": {},
   "outputs": [],
   "source": []
  }
 ],
 "metadata": {
  "kernelspec": {
   "display_name": "Python 3",
   "language": "python",
   "name": "python3"
  },
  "language_info": {
   "codemirror_mode": {
    "name": "ipython",
    "version": 3
   },
   "file_extension": ".py",
   "mimetype": "text/x-python",
   "name": "python",
   "nbconvert_exporter": "python",
   "pygments_lexer": "ipython3",
   "version": "3.7.3"
  }
 },
 "nbformat": 4,
 "nbformat_minor": 2
}
